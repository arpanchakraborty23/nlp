{
 "cells": [
  {
   "cell_type": "code",
   "execution_count": 1,
   "metadata": {},
   "outputs": [],
   "source": [
    "corps='Topic sentences are similar to mini thesis statements. Like a thesis statement, a topic sentence has a specific main point. Whereas the thesis is the main point of the essay, the topic sentence is the main point of the paragraph. Like the thesis statement, a topic sentence has a unifying function. But a thesis statement or topic sentence alone doesn’t guarantee unity. An essay is unified if all the paragraphs relate to the thesis, whereas a paragraph is unified if all the sentences relate to the topic sentence. Note: Not all paragraphs need topic sentences. In particular, opening and closing paragraphs, which serve different functions from body paragraphs, generally don’t have topic sentences.'"
   ]
  },
  {
   "cell_type": "code",
   "execution_count": 2,
   "metadata": {},
   "outputs": [
    {
     "name": "stdout",
     "output_type": "stream",
     "text": [
      "Topic sentences are similar to mini thesis statements. Like a thesis statement, a topic sentence has a specific main point. Whereas the thesis is the main point of the essay, the topic sentence is the main point of the paragraph. Like the thesis statement, a topic sentence has a unifying function. But a thesis statement or topic sentence alone doesn’t guarantee unity. An essay is unified if all the paragraphs relate to the thesis, whereas a paragraph is unified if all the sentences relate to the topic sentence. Note: Not all paragraphs need topic sentences. In particular, opening and closing paragraphs, which serve different functions from body paragraphs, generally don’t have topic sentences.\n"
     ]
    }
   ],
   "source": [
    "print(corps)"
   ]
  },
  {
   "cell_type": "code",
   "execution_count": 3,
   "metadata": {},
   "outputs": [
    {
     "name": "stdout",
     "output_type": "stream",
     "text": [
      " Volume in drive E is New Volume\n",
      " Volume Serial Number is 2ACA-4509\n",
      "\n",
      " Directory of e:\\nlp\n",
      "\n",
      "16-05-2024  21:40    <DIR>          .\n",
      "16-05-2024  21:55            19,976 1-Tokenizer.ipynb\n",
      "16-05-2024  21:27    <DIR>          nlp\n",
      "               1 File(s)         19,976 bytes\n",
      "               2 Dir(s)  101,481,803,776 bytes free\n"
     ]
    }
   ],
   "source": [
    "ls"
   ]
  },
  {
   "cell_type": "code",
   "execution_count": 4,
   "metadata": {},
   "outputs": [
    {
     "name": "stderr",
     "output_type": "stream",
     "text": [
      "[nltk_data] Downloading package punkt to\n",
      "[nltk_data]     C:\\Users\\www58\\AppData\\Roaming\\nltk_data...\n",
      "[nltk_data]   Unzipping tokenizers\\punkt.zip.\n"
     ]
    },
    {
     "data": {
      "text/plain": [
       "True"
      ]
     },
     "execution_count": 4,
     "metadata": {},
     "output_type": "execute_result"
    }
   ],
   "source": [
    "import nltk\n",
    "nltk.download('punkt')"
   ]
  },
  {
   "cell_type": "code",
   "execution_count": 6,
   "metadata": {},
   "outputs": [],
   "source": [
    "from nltk.tokenize import word_tokenize,sent_tokenize"
   ]
  },
  {
   "cell_type": "code",
   "execution_count": 7,
   "metadata": {},
   "outputs": [],
   "source": [
    "doc=sent_tokenize(corps)"
   ]
  },
  {
   "cell_type": "code",
   "execution_count": 11,
   "metadata": {},
   "outputs": [
    {
     "data": {
      "text/plain": [
       "['Topic sentences are similar to mini thesis statements.',\n",
       " 'Like a thesis statement, a topic sentence has a specific main point.',\n",
       " 'Whereas the thesis is the main point of the essay, the topic sentence is the main point of the paragraph.',\n",
       " 'Like the thesis statement, a topic sentence has a unifying function.',\n",
       " 'But a thesis statement or topic sentence alone doesn’t guarantee unity.',\n",
       " 'An essay is unified if all the paragraphs relate to the thesis, whereas a paragraph is unified if all the sentences relate to the topic sentence.',\n",
       " 'Note: Not all paragraphs need topic sentences.',\n",
       " 'In particular, opening and closing paragraphs, which serve different functions from body paragraphs, generally don’t have topic sentences.']"
      ]
     },
     "execution_count": 11,
     "metadata": {},
     "output_type": "execute_result"
    }
   ],
   "source": [
    "doc\n",
    "## tokenizer retern list"
   ]
  },
  {
   "cell_type": "code",
   "execution_count": 23,
   "metadata": {},
   "outputs": [
    {
     "data": {
      "text/plain": [
       "list"
      ]
     },
     "execution_count": 23,
     "metadata": {},
     "output_type": "execute_result"
    }
   ],
   "source": [
    "type(doc)"
   ]
  },
  {
   "cell_type": "code",
   "execution_count": 13,
   "metadata": {},
   "outputs": [
    {
     "name": "stdout",
     "output_type": "stream",
     "text": [
      "Topic sentences are similar to mini thesis statements.\n",
      "<class 'str'>\n",
      "Like a thesis statement, a topic sentence has a specific main point.\n",
      "<class 'str'>\n",
      "Whereas the thesis is the main point of the essay, the topic sentence is the main point of the paragraph.\n",
      "<class 'str'>\n",
      "Like the thesis statement, a topic sentence has a unifying function.\n",
      "<class 'str'>\n",
      "But a thesis statement or topic sentence alone doesn’t guarantee unity.\n",
      "<class 'str'>\n",
      "An essay is unified if all the paragraphs relate to the thesis, whereas a paragraph is unified if all the sentences relate to the topic sentence.\n",
      "<class 'str'>\n",
      "Note: Not all paragraphs need topic sentences.\n",
      "<class 'str'>\n",
      "In particular, opening and closing paragraphs, which serve different functions from body paragraphs, generally don’t have topic sentences.\n",
      "<class 'str'>\n"
     ]
    }
   ],
   "source": [
    "for i in doc:\n",
    "    print(i)\n",
    "    print(type(i))"
   ]
  },
  {
   "cell_type": "markdown",
   "metadata": {},
   "source": [
    "## Tokenization \n",
    "## Paragraph-->sentence\n",
    "## sentence--->words"
   ]
  },
  {
   "cell_type": "code",
   "execution_count": 16,
   "metadata": {},
   "outputs": [],
   "source": [
    "word=word_tokenize(corps)"
   ]
  },
  {
   "cell_type": "code",
   "execution_count": 17,
   "metadata": {},
   "outputs": [
    {
     "data": {
      "text/plain": [
       "['Topic',\n",
       " 'sentences',\n",
       " 'are',\n",
       " 'similar',\n",
       " 'to',\n",
       " 'mini',\n",
       " 'thesis',\n",
       " 'statements',\n",
       " '.',\n",
       " 'Like',\n",
       " 'a',\n",
       " 'thesis',\n",
       " 'statement',\n",
       " ',',\n",
       " 'a',\n",
       " 'topic',\n",
       " 'sentence',\n",
       " 'has',\n",
       " 'a',\n",
       " 'specific',\n",
       " 'main',\n",
       " 'point',\n",
       " '.',\n",
       " 'Whereas',\n",
       " 'the',\n",
       " 'thesis',\n",
       " 'is',\n",
       " 'the',\n",
       " 'main',\n",
       " 'point',\n",
       " 'of',\n",
       " 'the',\n",
       " 'essay',\n",
       " ',',\n",
       " 'the',\n",
       " 'topic',\n",
       " 'sentence',\n",
       " 'is',\n",
       " 'the',\n",
       " 'main',\n",
       " 'point',\n",
       " 'of',\n",
       " 'the',\n",
       " 'paragraph',\n",
       " '.',\n",
       " 'Like',\n",
       " 'the',\n",
       " 'thesis',\n",
       " 'statement',\n",
       " ',',\n",
       " 'a',\n",
       " 'topic',\n",
       " 'sentence',\n",
       " 'has',\n",
       " 'a',\n",
       " 'unifying',\n",
       " 'function',\n",
       " '.',\n",
       " 'But',\n",
       " 'a',\n",
       " 'thesis',\n",
       " 'statement',\n",
       " 'or',\n",
       " 'topic',\n",
       " 'sentence',\n",
       " 'alone',\n",
       " 'doesn',\n",
       " '’',\n",
       " 't',\n",
       " 'guarantee',\n",
       " 'unity',\n",
       " '.',\n",
       " 'An',\n",
       " 'essay',\n",
       " 'is',\n",
       " 'unified',\n",
       " 'if',\n",
       " 'all',\n",
       " 'the',\n",
       " 'paragraphs',\n",
       " 'relate',\n",
       " 'to',\n",
       " 'the',\n",
       " 'thesis',\n",
       " ',',\n",
       " 'whereas',\n",
       " 'a',\n",
       " 'paragraph',\n",
       " 'is',\n",
       " 'unified',\n",
       " 'if',\n",
       " 'all',\n",
       " 'the',\n",
       " 'sentences',\n",
       " 'relate',\n",
       " 'to',\n",
       " 'the',\n",
       " 'topic',\n",
       " 'sentence',\n",
       " '.',\n",
       " 'Note',\n",
       " ':',\n",
       " 'Not',\n",
       " 'all',\n",
       " 'paragraphs',\n",
       " 'need',\n",
       " 'topic',\n",
       " 'sentences',\n",
       " '.',\n",
       " 'In',\n",
       " 'particular',\n",
       " ',',\n",
       " 'opening',\n",
       " 'and',\n",
       " 'closing',\n",
       " 'paragraphs',\n",
       " ',',\n",
       " 'which',\n",
       " 'serve',\n",
       " 'different',\n",
       " 'functions',\n",
       " 'from',\n",
       " 'body',\n",
       " 'paragraphs',\n",
       " ',',\n",
       " 'generally',\n",
       " 'don',\n",
       " '’',\n",
       " 't',\n",
       " 'have',\n",
       " 'topic',\n",
       " 'sentences',\n",
       " '.']"
      ]
     },
     "execution_count": 17,
     "metadata": {},
     "output_type": "execute_result"
    }
   ],
   "source": [
    "word"
   ]
  },
  {
   "cell_type": "code",
   "execution_count": 18,
   "metadata": {},
   "outputs": [
    {
     "data": {
      "text/plain": [
       "list"
      ]
     },
     "execution_count": 18,
     "metadata": {},
     "output_type": "execute_result"
    }
   ],
   "source": [
    "type(word)"
   ]
  },
  {
   "cell_type": "markdown",
   "metadata": {},
   "source": [
    "## using for loop"
   ]
  },
  {
   "cell_type": "code",
   "execution_count": 24,
   "metadata": {},
   "outputs": [
    {
     "name": "stdout",
     "output_type": "stream",
     "text": [
      "<class 'list'>\n",
      "<class 'list'>\n",
      "<class 'list'>\n",
      "<class 'list'>\n",
      "<class 'list'>\n",
      "<class 'list'>\n",
      "<class 'list'>\n",
      "<class 'list'>\n"
     ]
    }
   ],
   "source": [
    "# it sparate every sent into list\n",
    "for i in doc:\n",
    "    sent=sent_tokenize(i)\n",
    "    print(type(sent))"
   ]
  },
  {
   "cell_type": "code",
   "execution_count": 31,
   "metadata": {},
   "outputs": [
    {
     "name": "stdout",
     "output_type": "stream",
     "text": [
      "<class 'str'>\n",
      "<class 'list'>\n",
      "<class 'str'>\n",
      "<class 'list'>\n",
      "<class 'str'>\n",
      "<class 'list'>\n",
      "<class 'str'>\n",
      "<class 'list'>\n",
      "<class 'str'>\n",
      "<class 'list'>\n",
      "<class 'str'>\n",
      "<class 'list'>\n",
      "<class 'str'>\n",
      "<class 'list'>\n",
      "<class 'str'>\n",
      "<class 'list'>\n"
     ]
    }
   ],
   "source": [
    "# it sparate every sent into list\n",
    "for i in doc:\n",
    "    sent=sent_tokenize(i)\n",
    "    for j in sent:\n",
    "        print(type(j))\n",
    "        print(type(word_tokenize(j)))"
   ]
  },
  {
   "cell_type": "code",
   "execution_count": null,
   "metadata": {},
   "outputs": [],
   "source": []
  }
 ],
 "metadata": {
  "kernelspec": {
   "display_name": "Python 3",
   "language": "python",
   "name": "python3"
  },
  "language_info": {
   "codemirror_mode": {
    "name": "ipython",
    "version": 3
   },
   "file_extension": ".py",
   "mimetype": "text/x-python",
   "name": "python",
   "nbconvert_exporter": "python",
   "pygments_lexer": "ipython3",
   "version": "3.9.0"
  }
 },
 "nbformat": 4,
 "nbformat_minor": 2
}

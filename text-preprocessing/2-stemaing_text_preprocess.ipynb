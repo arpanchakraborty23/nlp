{
 "cells": [
  {
   "cell_type": "code",
   "execution_count": 1,
   "metadata": {},
   "outputs": [],
   "source": [
    "words=[\"eating\",\"eats\",\"eaten\",\"writing\",\"writes\",\"programming\",\"programs\",\"history\",\"finally\",\"finalized\"]"
   ]
  },
  {
   "cell_type": "code",
   "execution_count": 2,
   "metadata": {},
   "outputs": [],
   "source": [
    "from nltk.stem import PorterStemmer,SnowballStemmer"
   ]
  },
  {
   "cell_type": "code",
   "execution_count": 3,
   "metadata": {},
   "outputs": [],
   "source": [
    "stem=PorterStemmer()"
   ]
  },
  {
   "cell_type": "markdown",
   "metadata": {},
   "source": [
    "## staming replaceing word by base word"
   ]
  },
  {
   "cell_type": "code",
   "execution_count": 5,
   "metadata": {},
   "outputs": [
    {
     "name": "stdout",
     "output_type": "stream",
     "text": [
      "eating---->eat\n",
      "eats---->eat\n",
      "eaten---->eaten\n",
      "writing---->write\n",
      "writes---->write\n",
      "programming---->program\n",
      "programs---->program\n",
      "history---->histori\n",
      "finally---->final\n",
      "finalized---->final\n"
     ]
    }
   ],
   "source": [
    "\n",
    "for word in words:\n",
    "    print(word+'---->' +stem.stem(word))"
   ]
  },
  {
   "cell_type": "code",
   "execution_count": 6,
   "metadata": {},
   "outputs": [
    {
     "data": {
      "text/plain": [
       "'historyc'"
      ]
     },
     "execution_count": 6,
     "metadata": {},
     "output_type": "execute_result"
    }
   ],
   "source": [
    "stem.stem('historycal')"
   ]
  },
  {
   "cell_type": "markdown",
   "metadata": {},
   "source": [
    "## major issue it the context mening lost it"
   ]
  },
  {
   "cell_type": "markdown",
   "metadata": {},
   "source": [
    "# Snowball Stemmer\n",
    "It is a stemming algorithm which is also known as the Porter2 stemming algorithm as it is a better version of the Porter Stemmer since some issues of it were fixed in this stemmer."
   ]
  },
  {
   "cell_type": "code",
   "execution_count": 8,
   "metadata": {},
   "outputs": [],
   "source": [
    "snowball=SnowballStemmer('english')\n"
   ]
  },
  {
   "cell_type": "code",
   "execution_count": 9,
   "metadata": {},
   "outputs": [
    {
     "name": "stdout",
     "output_type": "stream",
     "text": [
      "eating---->eat\n",
      "eats---->eat\n",
      "eaten---->eaten\n",
      "writing---->write\n",
      "writes---->write\n",
      "programming---->program\n",
      "programs---->program\n",
      "history---->histori\n",
      "finally---->final\n",
      "finalized---->final\n"
     ]
    }
   ],
   "source": [
    "for word in words:\n",
    "    print(word+ '---->'+snowball.stem(word))"
   ]
  },
  {
   "cell_type": "code",
   "execution_count": 10,
   "metadata": {},
   "outputs": [
    {
     "data": {
      "text/plain": [
       "'historyc'"
      ]
     },
     "execution_count": 10,
     "metadata": {},
     "output_type": "execute_result"
    }
   ],
   "source": [
    "snowball.stem('historycal')"
   ]
  },
  {
   "cell_type": "code",
   "execution_count": 11,
   "metadata": {},
   "outputs": [
    {
     "data": {
      "text/plain": [
       "'fairli'"
      ]
     },
     "execution_count": 11,
     "metadata": {},
     "output_type": "execute_result"
    }
   ],
   "source": [
    "stem.stem('fairly')"
   ]
  },
  {
   "cell_type": "code",
   "execution_count": 12,
   "metadata": {},
   "outputs": [
    {
     "data": {
      "text/plain": [
       "'fair'"
      ]
     },
     "execution_count": 12,
     "metadata": {},
     "output_type": "execute_result"
    }
   ],
   "source": [
    "snowball.stem('fairly')"
   ]
  },
  {
   "cell_type": "code",
   "execution_count": 13,
   "metadata": {},
   "outputs": [],
   "source": [
    "corps='Topic sentences are similar to mini thesis statements. Like a thesis statement, a topic sentence has a specific main point. Whereas the thesis is the main point of the essay, the topic sentence is the main point of the paragraph. Like the thesis statement, a topic sentence has a unifying function. But a thesis statement or topic sentence alone doesn’t guarantee unity. An essay is unified if all the paragraphs relate to the thesis, whereas a paragraph is unified if all the sentences relate to the topic sentence. Note: Not all paragraphs need topic sentences. In particular, opening and closing paragraphs, which serve different functions from body paragraphs, generally don’t have topic sentences.'"
   ]
  },
  {
   "cell_type": "code",
   "execution_count": 14,
   "metadata": {},
   "outputs": [],
   "source": [
    "from nltk.tokenize import sent_tokenize,word_tokenize"
   ]
  },
  {
   "cell_type": "code",
   "execution_count": 16,
   "metadata": {},
   "outputs": [
    {
     "name": "stderr",
     "output_type": "stream",
     "text": [
      "[nltk_data] Downloading package punkt to\n",
      "[nltk_data]     C:\\Users\\www58\\AppData\\Roaming\\nltk_data...\n",
      "[nltk_data]   Package punkt is already up-to-date!\n"
     ]
    },
    {
     "data": {
      "text/plain": [
       "True"
      ]
     },
     "execution_count": 16,
     "metadata": {},
     "output_type": "execute_result"
    }
   ],
   "source": [
    "import nltk\n",
    "nltk.download('punkt')"
   ]
  },
  {
   "cell_type": "code",
   "execution_count": 22,
   "metadata": {},
   "outputs": [
    {
     "name": "stdout",
     "output_type": "stream",
     "text": [
      "['Topic', 'sentences', 'are', 'similar', 'to', 'mini', 'thesis', 'statements', '.']\n",
      "topic\n",
      "sentenc\n",
      "are\n",
      "similar\n",
      "to\n",
      "mini\n",
      "thesi\n",
      "statement\n",
      ".\n",
      "['Like', 'a', 'thesis', 'statement', ',', 'a', 'topic', 'sentence', 'has', 'a', 'specific', 'main', 'point', '.']\n",
      "like\n",
      "a\n",
      "thesi\n",
      "statement\n",
      ",\n",
      "a\n",
      "topic\n",
      "sentenc\n",
      "has\n",
      "a\n",
      "specif\n",
      "main\n",
      "point\n",
      ".\n",
      "['Whereas', 'the', 'thesis', 'is', 'the', 'main', 'point', 'of', 'the', 'essay', ',', 'the', 'topic', 'sentence', 'is', 'the', 'main', 'point', 'of', 'the', 'paragraph', '.']\n",
      "wherea\n",
      "the\n",
      "thesi\n",
      "is\n",
      "the\n",
      "main\n",
      "point\n",
      "of\n",
      "the\n",
      "essay\n",
      ",\n",
      "the\n",
      "topic\n",
      "sentenc\n",
      "is\n",
      "the\n",
      "main\n",
      "point\n",
      "of\n",
      "the\n",
      "paragraph\n",
      ".\n",
      "['Like', 'the', 'thesis', 'statement', ',', 'a', 'topic', 'sentence', 'has', 'a', 'unifying', 'function', '.']\n",
      "like\n",
      "the\n",
      "thesi\n",
      "statement\n",
      ",\n",
      "a\n",
      "topic\n",
      "sentenc\n",
      "has\n",
      "a\n",
      "unifi\n",
      "function\n",
      ".\n",
      "['But', 'a', 'thesis', 'statement', 'or', 'topic', 'sentence', 'alone', 'doesn', '’', 't', 'guarantee', 'unity', '.']\n",
      "but\n",
      "a\n",
      "thesi\n",
      "statement\n",
      "or\n",
      "topic\n",
      "sentenc\n",
      "alon\n",
      "doesn\n",
      "’\n",
      "t\n",
      "guarante\n",
      "uniti\n",
      ".\n",
      "['An', 'essay', 'is', 'unified', 'if', 'all', 'the', 'paragraphs', 'relate', 'to', 'the', 'thesis', ',', 'whereas', 'a', 'paragraph', 'is', 'unified', 'if', 'all', 'the', 'sentences', 'relate', 'to', 'the', 'topic', 'sentence', '.']\n",
      "an\n",
      "essay\n",
      "is\n",
      "unifi\n",
      "if\n",
      "all\n",
      "the\n",
      "paragraph\n",
      "relat\n",
      "to\n",
      "the\n",
      "thesi\n",
      ",\n",
      "wherea\n",
      "a\n",
      "paragraph\n",
      "is\n",
      "unifi\n",
      "if\n",
      "all\n",
      "the\n",
      "sentenc\n",
      "relat\n",
      "to\n",
      "the\n",
      "topic\n",
      "sentenc\n",
      ".\n",
      "['Note', ':', 'Not', 'all', 'paragraphs', 'need', 'topic', 'sentences', '.']\n",
      "note\n",
      ":\n",
      "not\n",
      "all\n",
      "paragraph\n",
      "need\n",
      "topic\n",
      "sentenc\n",
      ".\n",
      "['In', 'particular', ',', 'opening', 'and', 'closing', 'paragraphs', ',', 'which', 'serve', 'different', 'functions', 'from', 'body', 'paragraphs', ',', 'generally', 'don', '’', 't', 'have', 'topic', 'sentences', '.']\n",
      "in\n",
      "particular\n",
      ",\n",
      "open\n",
      "and\n",
      "close\n",
      "paragraph\n",
      ",\n",
      "which\n",
      "serv\n",
      "differ\n",
      "function\n",
      "from\n",
      "bodi\n",
      "paragraph\n",
      ",\n",
      "general\n",
      "don\n",
      "’\n",
      "t\n",
      "have\n",
      "topic\n",
      "sentenc\n",
      ".\n"
     ]
    }
   ],
   "source": [
    "doc=sent_tokenize(corps)\n",
    "for i in doc:\n",
    "    word=word_tokenize(i)\n",
    "    print(word)\n",
    "    for j in word:\n",
    "        print(snowball.stem(j))"
   ]
  },
  {
   "cell_type": "code",
   "execution_count": null,
   "metadata": {},
   "outputs": [],
   "source": []
  }
 ],
 "metadata": {
  "kernelspec": {
   "display_name": "Python 3",
   "language": "python",
   "name": "python3"
  },
  "language_info": {
   "codemirror_mode": {
    "name": "ipython",
    "version": 3
   },
   "file_extension": ".py",
   "mimetype": "text/x-python",
   "name": "python",
   "nbconvert_exporter": "python",
   "pygments_lexer": "ipython3",
   "version": "3.9.0"
  }
 },
 "nbformat": 4,
 "nbformat_minor": 2
}
